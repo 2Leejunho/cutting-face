{
 "cells": [
  {
   "cell_type": "code",
   "execution_count": null,
   "id": "ca882ff6-7323-4644-8820-d4987a55a0c3",
   "metadata": {},
   "outputs": [],
   "source": [
    "#이미지 폴더에서 얼굴만 잘라내서 저장\n",
    "import cv2\n",
    "import numpy as np\n",
    "import openvino as ov\n",
    "import os\n",
    "core = ov.Core()\n",
    "input_folder_path = 'faces'\n",
    "output_folder_path = 'faces1'\n",
    "face_detection_model = \"models/face-detection-adas-0001.xml\"\n",
    "face_detection_compiled_model = core.compile_model(model=face_detection_model, device_name=\"CPU\")\n",
    "face_input_layer = face_detection_compiled_model.input(0)\n",
    "face_output_layer = face_detection_compiled_model.output(0)\n",
    "face_input_shape = face_input_layer.shape\n",
    "image_files = [f for f in os.listdir(input_folder_path) if os.path.isfile(os.path.join(input_folder_path, f))]\n",
    "image_files.sort()\n",
    "def preprocess_image(image, input_shape):\n",
    "    if len(image.shape) == 3 and image.shape[2] == 4:\n",
    "        image = cv2.cvtColor(image, cv2.COLOR_BGRA2BGR)\n",
    "    image = cv2.cvtColor(image, cv2.COLOR_BGR2RGB)\n",
    "    image = cv2.resize(image, (input_shape[3], input_shape[2]))\n",
    "    image = np.transpose(image, (2, 0, 1))\n",
    "    image = np.expand_dims(image, axis=0)\n",
    "    image = image.astype(np.float32)\n",
    "    return image\n",
    "def detect_faces(image):\n",
    "    preprocessed_image = preprocess_image(image, face_input_shape)\n",
    "    result = face_detection_compiled_model([preprocessed_image])[face_output_layer]\n",
    "    return result[0][0]\n",
    "if not os.path.exists(output_folder_path):\n",
    "    os.makedirs(output_folder_path)\n",
    "for image_file in image_files:\n",
    "    image_path = os.path.join(input_folder_path, image_file)\n",
    "    load_image = cv2.imread(image_path)\n",
    "    faces = detect_faces(load_image)\n",
    "    for idx, face in enumerate(faces):\n",
    "        confidence = face[2]\n",
    "        if confidence > 0.5:\n",
    "            xmin = int(face[3] * load_image.shape[1])\n",
    "            ymin = int(face[4] * load_image.shape[0])\n",
    "            xmax = int(face[5] * load_image.shape[1])\n",
    "            ymax = int(face[6] * load_image.shape[0])\n",
    "            if xmin < 0 or ymin < 0 or xmax > load_image.shape[1] or ymax > load_image.shape[0]:\n",
    "                continue\n",
    "            face_image = load_image[ymin:ymax, xmin:xmax]\n",
    "            output_file_path = os.path.join(output_folder_path, f\"{os.path.splitext(image_file)[0]}.jpg\")\n",
    "            cv2.imwrite(output_file_path, face_image)\n",
    "            print(f\"Saved face image to {output_file_path}\")"
   ]
  }
 ],
 "metadata": {
  "kernelspec": {
   "display_name": "Python 3 (ipykernel)",
   "language": "python",
   "name": "python3"
  },
  "language_info": {
   "codemirror_mode": {
    "name": "ipython",
    "version": 3
   },
   "file_extension": ".py",
   "mimetype": "text/x-python",
   "name": "python",
   "nbconvert_exporter": "python",
   "pygments_lexer": "ipython3",
   "version": "3.12.2"
  }
 },
 "nbformat": 4,
 "nbformat_minor": 5
}
